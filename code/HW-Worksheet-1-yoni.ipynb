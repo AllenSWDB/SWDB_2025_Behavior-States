{
 "cells": [
  {
   "cell_type": "markdown",
   "id": "1edb501b",
   "metadata": {},
   "source": [
    " <img src=\"../code/Resources/cropped-SummerWorkshop_Header.png\"> \n",
    "\n",
    "<h1 align=\"center\">Homework worksheet, Tutorial on neuronal encoding and behavior</h1> \n",
    "<h3 align=\"center\">Summer Workshop on the Dynamic Brain</h3> \n",
    "<h3 align=\"center\">Thursday, August 28th, 2025</h3> \n",
    "<h3 align=\"center\">Day 4</h3> \n"
   ]
  },
  {
   "cell_type": "markdown",
   "id": "89e0793a",
   "metadata": {},
   "source": [
    "<div style=\"border-left: 3px solid #000; padding: 1px; padding-left: 10px; background: #F0FAFF; \">\n",
    "\n",
    "# Question: Does behavioral state change neural encoding of task-relevant stimuli?\n"
   ]
  },
  {
   "cell_type": "markdown",
   "id": "e5bba936-21fd-4eda-ac7f-5bdfd3bd0267",
   "metadata": {},
   "source": [
    "<div style=\"border-left: 3px solid #000; padding: 1px; padding-left: 10px; background: #DFF0D8; \">\n",
    "    \n",
    "<h3> This question is best answered in a group! </h3>\n",
    "\n",
    "Before you get too far, sit down with your group and make a plan for how you might answer this. \n",
    "\n",
    "<b>Don't jump right in an start writing code! </b>\n",
    "\n",
    "Here are some things to think about:\n",
    "\n",
    "+ What do you think the best way to define state is for this question?\n",
    "+ Given todays theme, you have probably already guessed that we think neural decoding is a good way to tackle this problem. What, specifically, do you want to decode?\n",
    "+ What do you think the answer to the question is? (i.e. Do you have a hypothesis and null hypothesis to test?)\n"
   ]
  },
  {
   "cell_type": "markdown",
   "id": "f5ace8b6-16bc-4e55-b529-2508b9f11e5d",
   "metadata": {},
   "source": [
    "<div style=\"border-left: 3px solid #000; padding: 1px; padding-left: 10px; background: #F0FAFF; \">\n",
    "\n",
    "Have a game plan? Great. \n",
    "\n",
    "The idea behind today's homework is for you to work with your group to answer this question. Think of it as a sort of mini project. We will give you some code to get started, but really the goal here is to give you a chance to try your hand at data analysis. Have fun!"
   ]
  },
  {
   "cell_type": "markdown",
   "id": "dc374596-7045-49bf-90ac-4471b0ada3e9",
   "metadata": {},
   "source": [
    "<div style=\"border-left: 3px solid #000; padding: 1px; padding-left: 10px; background: #F0FAFF; \">\n",
    "    \n",
    "# Part 0: Setup\n",
    "\n",
    "You are going to need some python packages. Here are the ones from earlier today!\n",
    "</div>"
   ]
  },
  {
   "cell_type": "code",
   "execution_count": null,
   "id": "716b16c0-4d82-4bfc-8348-f1198815d01f",
   "metadata": {},
   "outputs": [],
   "source": [
    "import os\n",
    "import numpy as np\n",
    "import numpy.random as npr\n",
    "import pandas as pd\n",
    "import pynwb\n",
    "\n",
    "import matplotlib.pyplot as plt\n",
    "from matplotlib import colors\n",
    "import seaborn as sns\n",
    "\n",
    "pd.set_option('display.max_columns', None)\n",
    "\n",
    "%matplotlib inline\n",
    "\n",
    "from tqdm import tqdm  # Displays a smart progress bar during loops\n",
    "\n",
    "# Sklearn\n",
    "from sklearn.svm import LinearSVC\n",
    "from sklearn.model_selection import train_test_split\n",
    "from sklearn.preprocessing import StandardScaler \n",
    "\n",
    "# HMM libraries \n",
    "import jax.numpy as jnp\n",
    "import jax.random as jr\n",
    "\n",
    "from dynamax.hidden_markov_model import GaussianHMM\n",
    "\n",
    "# HMM-related imports from JAX, Dynamax, and TensorFlow Probability\n",
    "from functools import partial\n",
    "import jax.numpy as jnp\n",
    "import jax.random as jr\n",
    "from dynamax.hidden_markov_model import GaussianHMM\n",
    "import tensorflow_probability.substrates.jax.distributions as tfd\n",
    "from dynamax.utils.utils import find_permutation\n",
    "\n",
    "# Additional HMM variants and plotting utilities from Dynamax\n",
    "from dynamax.hidden_markov_model import (\n",
    "    DiagonalGaussianHMM,\n",
    "    SphericalGaussianHMM,\n",
    "    SharedCovarianceGaussianHMM\n",
    ")\n",
    "\n",
    "from dynamax.utils.plotting import CMAP, COLORS, white_to_color_cmap"
   ]
  },
  {
   "cell_type": "markdown",
   "id": "95daf17f-c1de-481a-9b2e-70f491654ee7",
   "metadata": {},
   "source": [
    "<div style=\"border-left: 3px solid #000; padding: 1px; padding-left: 10px; background: #F0FAFF; \">\n",
    "\n",
    "You will also need to set the path to the data. Again, nothing fancy here - this is straight out of the workshop.\n",
    "</div>\n"
   ]
  },
  {
   "cell_type": "code",
   "execution_count": null,
   "id": "6ed9ad6e-3360-4df4-8288-78901761862c",
   "metadata": {},
   "outputs": [],
   "source": [
    "import platform\n",
    "from pathlib import Path\n",
    "platstring = platform.platform()\n",
    "\n",
    "if 'Darwin' in platstring:\n",
    "    # macOS \n",
    "    data_root = Path(\"/Volumes/Brain2025/\")\n",
    "elif 'Windows'  in platstring:\n",
    "    # Windows (replace with the drive letter of USB drive)\n",
    "    data_root = Path(\"E:/\")\n",
    "elif ('amzn' in platstring):\n",
    "    # then on CodeOcean\n",
    "    data_root = Path(\"/data/\")\n",
    "else:\n",
    "    # then your own linux platform\n",
    "    # EDIT location where you mounted hard drive\n",
    "    data_root = Path(\"/media/$USERNAME/Brain2025/\")"
   ]
  },
  {
   "cell_type": "markdown",
   "id": "b94deb89-9cf9-41de-9d55-2bdc71df11cb",
   "metadata": {},
   "source": [
    "<div style=\"border-left: 3px solid #000; padding: 1px; padding-left: 10px; background: #F0FAFF; \">\n",
    "    \n",
    "# Part 1: Data wrangling.\n",
    "\n",
    "To answer this question, you are going to need some data. \n",
    "\n",
    "In day 1 you saw how to use the <b>AllenSDK</b> to access a cache that has information about all of the sessions of Visual Behavior Neuropixels data. The bad news, however, is that the <b>AllenSDK</b> hasn't always kept up with the times Python-wise. Specifically, newer versions of Python required by newer packages don't play nicely with the <b>AllenSDK</b>. The really bad news this includes <b>Dynamax</b> and <b>JAX</b>. \n",
    "\n",
    "Since we want to fit HMMs (and generally use more modern code), we need a different way to access our data.\n",
    "\n",
    "For now, we have provided the ephys session and behavior session tables from the AllenSDK as CSV files attached to this capsule (see <i>/code/session_tables/*</i>. You can use these tables to find session that are of interest too you.\n",
    "</div>"
   ]
  },
  {
   "cell_type": "markdown",
   "id": "6140d563-c0cf-4ac6-ad7f-1354a0ae290b",
   "metadata": {},
   "source": [
    "<div style=\"border-left: 3px solid #000; padding: 1px; padding-left: 10px; background: #F0FAFF; \">\n",
    "\n",
    "<i>Note:To get this table, all we did was open the day one capsule and use the <b>AllenSDK</b> to pull out the table and save it. If you want to use newer versions of Python/fancy packages for your projects, CodeOcean capsules or python virtual environments make it easy to have access to the AllenSDK without it breaking your more modern python installation. TAs will be happy to help you with this if you run into issues!</i> "
   ]
  },
  {
   "cell_type": "code",
   "execution_count": null,
   "id": "d61ce802-9d59-4787-9e4e-32387f8b4713",
   "metadata": {},
   "outputs": [],
   "source": [
    "ephys_session_table = pd.read_csv('/code/session_tables/ephys_session_table_VisualBehaviorNeuropixels.csv')\n",
    "ephys_session_table.head()"
   ]
  },
  {
   "cell_type": "markdown",
   "id": "47096020-6f54-496b-a634-245b63a4a4ba",
   "metadata": {},
   "source": [
    "<div style=\"border-left: 3px solid #000; padding: 1px; padding-left: 10px; background: #DFF0D8; \">\n",
    "\n",
    "##  Use this table to choose a session to start with!\n",
    "\n",
    "Different session have different areas recorded, levels of familiarity, number of probes, mouse genotypes/optotagging, etc. \n",
    "\n",
    "Choose one like a good fit for your groups interest. There is no rule that everyone in your group needs to choose the same session - it could be interesting to compare!\n",
    "\n",
    "The \"starter\" code before is written with a particular session as an example. If this session suite your needs you are welcome to start there, but at least chat that it is what your really want.\n"
   ]
  },
  {
   "cell_type": "code",
   "execution_count": null,
   "id": "cd4d27a4-6757-42bf-917d-8e503ab2cc40",
   "metadata": {},
   "outputs": [],
   "source": [
    "# EXAMPLE: Find sessions with VISp recordings.\n",
    "VISp_sessions = []\n",
    "for ii,row in ephys_session_table.iterrows():\n",
    "    if ('VISp' in row.structure_acronyms) and (row.experience_level == 'Novel'):\n",
    "        VISp_sessions.append(row.ecephys_session_id)\n",
    "len(VISp_sessions)"
   ]
  },
  {
   "cell_type": "code",
   "execution_count": null,
   "id": "d9aa49fa-31a9-4ae8-8bf5-020997531057",
   "metadata": {},
   "outputs": [],
   "source": [
    "# Write your code to choose your own session here\n"
   ]
  },
  {
   "cell_type": "code",
   "execution_count": null,
   "id": "49e7e534",
   "metadata": {},
   "outputs": [],
   "source": [
    "# Load a session!\n",
    "example_session =1069461581 # Please! Pick different session!\n",
    "this_session = str(example_session)\n",
    "this_filename = f'ecephys_session_{this_session}.nwb'\n",
    "nwb_path = data_root/'visual-behavior-neuropixels'/'behavior_ecephys_sessions'/this_session/this_filename\n",
    "print(nwb_path)\n"
   ]
  },
  {
   "cell_type": "markdown",
   "id": "4f2573da-a427-427e-867b-f0f3719889fe",
   "metadata": {},
   "source": [
    "<div style=\"border-left: 3px solid #000; padding: 1px; padding-left: 10px; background: #F0FAFF; \">\n",
    "\n",
    "Lets start by reading the NWB"
   ]
  },
  {
   "cell_type": "code",
   "execution_count": null,
   "id": "004e27a5-942a-4e40-81f5-c2eec4748d8a",
   "metadata": {},
   "outputs": [],
   "source": [
    "session = pynwb.NWBHDF5IO(nwb_path).read()\n",
    "session"
   ]
  },
  {
   "cell_type": "markdown",
   "id": "a6603f1f-2f9e-474e-a6ce-26677dcdfb83",
   "metadata": {},
   "source": [
    "<div style=\"border-left: 3px solid #000; padding: 1px; padding-left: 10px; background: #F0FAFF; \">\n",
    "\n",
    "Next lets grab stimulus information.\n",
    "\n",
    "You will likely need to change the key from <i>session.intervals</i> you use to to match the session you chose!"
   ]
  },
  {
   "cell_type": "code",
   "execution_count": null,
   "id": "79b849c7-6030-4693-8695-cb14b25a6d1f",
   "metadata": {},
   "outputs": [],
   "source": [
    "# Grab behavior data\n",
    "trials = session.trials.to_dataframe()\n",
    "# You may need to edit this key depending on the session you chose!\n",
    "stimuli = session.intervals['Natural_Images_Lum_Matched_set_ophys_H_2019_presentations'].to_dataframe() \n",
    "active_stimuli = stimuli[stimuli.active==True]"
   ]
  },
  {
   "cell_type": "markdown",
   "id": "5b22c6bd-0cc0-41e8-b5c2-0fecfbc46433",
   "metadata": {},
   "source": [
    "<div style=\"border-left: 3px solid #000; padding: 1px; padding-left: 10px; background: #F0FAFF; \">\n",
    "\n",
    "Finally, lets pull out our units and do some basic QC."
   ]
  },
  {
   "cell_type": "code",
   "execution_count": null,
   "id": "188c6cd0-a50d-432c-8a85-99ddb6349b11",
   "metadata": {},
   "outputs": [],
   "source": [
    "# Grab electrophysiology data\n",
    "\n",
    "# Units info\n",
    "units_table = session.units.to_dataframe()\n",
    "# electrode info\n",
    "electrodes_table = session.electrodes.to_dataframe()\n",
    "# merge unit and electrode info\n",
    "units_electrode_table = units_table.join(electrodes_table,on = 'peak_channel_id')\n",
    "# do quick unit QC\n",
    "good_units = units_electrode_table[\n",
    "    (units_electrode_table.isi_violations<.5) &\n",
    "    (units_electrode_table.amplitude_cutoff<.1) &\n",
    "    (units_electrode_table.presence_ratio>.95)\n",
    "    ]\n"
   ]
  },
  {
   "cell_type": "markdown",
   "id": "83350faa-4e0e-496d-84b4-fd86d9df1efa",
   "metadata": {},
   "source": [
    "<div style=\"border-left: 3px solid #000; padding: 1px; padding-left: 10px; background: #F0FAFF; \">\n",
    "    \n",
    "# Part 2: Behavioral Modeling\n",
    "\n",
    "Fit a HMM to your behavior data! Either choose a pre-defined number of states or (even better) go ahead and figure out the \"best\" number of states to use.\n",
    "</div>"
   ]
  },
  {
   "cell_type": "markdown",
   "id": "dd1551b5-9b86-4724-a013-a3eb86cfa994",
   "metadata": {},
   "source": [
    "<div style=\"border-left: 3px solid #000; padding: 1px; padding-left: 10px; background: #F0FAFF; \">\n",
    "\n",
    "Lets start by formatting the data the way we had it in the session."
   ]
  },
  {
   "cell_type": "code",
   "execution_count": null,
   "id": "be477351-b7c6-4f0e-bfa7-889548d1f2e3",
   "metadata": {},
   "outputs": [],
   "source": [
    "# Get timestamps corresponding to go trials\n",
    "go_trials = trials[trials.go]\n",
    "trial_start = go_trials.start_time\n",
    "trial_stop = go_trials.stop_time\n",
    "\n",
    "behavior_data = {}\n",
    "\n",
    "# Count licks\n",
    "lick_count = go_trials.apply(lambda row : len(row['lick_times']), axis = 1)\n",
    "behavior_data['lick_count'] = lick_count\n",
    "\n",
    "# Get running speed and corresponding timestamps\n",
    "running_data = session.processing['running']\n",
    "running_timestamps = running_data['speed'].timestamps[:]\n",
    "running_speed = running_data['speed'].data[:]\n",
    "running_speed = pd.Series(running_speed).interpolate(limit_direction='both').to_numpy() \n",
    "behavior_data['running_speed']  = [np.nanmean(running_speed[np.logical_and(s1 <= running_timestamps, running_timestamps <= s2)]) for s1, s2 in zip(trial_start, trial_stop)]\n",
    "\n",
    "\n",
    "# Get pupil area and corresponding timestamps\n",
    "pupil_data = session.acquisition['EyeTracking']['pupil_tracking']\n",
    "pupil_timestamps = pupil_data.timestamps[:]\n",
    "pupil_area = pupil_data.area[:]\n",
    "pupil_area = pd.Series(pupil_area).interpolate(limit_direction='both').to_numpy() \n",
    "behavior_data['pupil_area'] = [np.nanmean(pupil_area[np.logical_and(s1 <= pupil_timestamps, pupil_timestamps <= s2)]) for s1, s2 in zip(trial_start, trial_stop)]\n",
    "\n",
    "behavior_df = pd.DataFrame(behavior_data)\n"
   ]
  },
  {
   "cell_type": "markdown",
   "id": "f1b831c1-cd79-4ab9-b2e1-73aacf9f9213",
   "metadata": {},
   "source": [
    "<div style=\"border-left: 3px solid #000; padding: 1px; padding-left: 10px; background: #F0FAFF; \">\n",
    "\n",
    "Remember this handy plotting function? It might be useful here."
   ]
  },
  {
   "cell_type": "code",
   "execution_count": null,
   "id": "9b743b4b-0a59-43d8-817b-492f1346dbd4",
   "metadata": {},
   "outputs": [],
   "source": [
    "def plot_gaussian_hmm_data(hmm, params, emissions, states, xlim=None, title = \"Simulated data from an HMM\"):\n",
    "    \"\"\" \n",
    "    Make a plot showing HMM state values relative to underlying variables\n",
    "    \n",
    "    Inputs:\n",
    "    hmm: a hidden markov model class which we will use defined in dynamax, \n",
    "    params: a set of parameters which is carried along through training\n",
    "    emissions: the observations in time\n",
    "    states: the underlying latent state at each timepoint.\n",
    "    \"\"\"\n",
    "    num_timesteps = len(emissions)\n",
    "    emission_dim = hmm.emission_dim\n",
    "    means = params.emissions.means[states]\n",
    "    lim = 1.05 * abs(emissions).max()\n",
    "\n",
    "    # Plot the data superimposed on the generating state sequence\n",
    "    fig, axs = plt.subplots(emission_dim, 1, sharex=True, figsize = (15, 5))\n",
    "    \n",
    "    for d in range(emission_dim):    \n",
    "        axs[d].imshow(states[None, :], aspect=\"auto\", interpolation=\"none\", cmap=CMAP,\n",
    "                      vmin=0, vmax=len(COLORS) - 1, extent=(0, num_timesteps, -lim, lim))\n",
    "        axs[d].plot(emissions[:, d], \"-k\")\n",
    "        axs[d].plot(means[:, d], \":k\")\n",
    "        axs[d].set_ylabel(\"$y_{{t,{} }}$\".format(d+1))\n",
    "        \n",
    "    if xlim is None:\n",
    "        plt.xlim(0, num_timesteps)\n",
    "    else:\n",
    "        plt.xlim(xlim)\n",
    "\n",
    "    axs[-1].set_xlabel(\"time\")\n",
    "    axs[0].set_title(title)\n",
    "    plt.tight_layout()\n",
    "\n",
    "    return fig, axs"
   ]
  },
  {
   "cell_type": "markdown",
   "id": "d8849ccd-5890-4879-a6ce-dee3d5a6216e",
   "metadata": {},
   "source": [
    "<div style=\"border-left: 3px solid #000; padding: 1px; padding-left: 10px; background: #F0FAFF; \">\n",
    "    \n",
    "Now you are ready to fit a HMM! We will get you started with some simple jpn code. </div>"
   ]
  },
  {
   "cell_type": "code",
   "execution_count": null,
   "id": "1d5a03dc-3bc0-4b9b-937d-3762ed8b7c64",
   "metadata": {},
   "outputs": [],
   "source": [
    "observations = jnp.array(behavior_df.values)\n",
    "num_trials, num_dimensions = observations.shape"
   ]
  },
  {
   "cell_type": "code",
   "execution_count": null,
   "id": "00d0f2fa-5f70-4bab-b213-fb510933354e",
   "metadata": {},
   "outputs": [],
   "source": [
    "# First scale the dimensions of the data to be normalized\n",
    "scaler = StandardScaler()    \n",
    "observations = scaler.fit_transform(observations)"
   ]
  },
  {
   "cell_type": "code",
   "execution_count": null,
   "id": "8f959ebb-0ce6-4df1-871c-08df8748450d",
   "metadata": {},
   "outputs": [],
   "source": [
    "key = jr.PRNGKey(0)\n",
    "number_of_states = 4\n",
    "final_hmm = GaussianHMM(number_of_states, num_dimensions, transition_matrix_stickiness=1)\n",
    "params, param_props = final_hmm.initialize(key=key, method=\"kmeans\", emissions=jnp.array(observations))\n",
    "params, lps = final_hmm.fit_em(params, param_props, jnp.array(observations), num_iters=500)\n",
    "most_likely_states = final_hmm.most_likely_states(params, observations)\n"
   ]
  },
  {
   "cell_type": "code",
   "execution_count": null,
   "id": "5146f4db-845b-4e1d-a5f2-e6eb655d10ee",
   "metadata": {},
   "outputs": [],
   "source": [
    "# Find the most likely discrete states given the learned model parameters\n",
    "most_likely_states = final_hmm.most_likely_states(params, observations)\n",
    "fig, axs = plot_gaussian_hmm_data(final_hmm, params, observations, most_likely_states, title = f'{this_session}')\n",
    "# Formatting \n",
    "xticks = axs[0].get_xticks().astype(int)[:-1]\n",
    "for n, ax in enumerate(axs):\n",
    "    ax.set_xticks(xticks)\n",
    "    ax.set_xticklabels(go_trials.index.values[xticks])\n",
    "    ax.set_ylabel(f'{behavior_df.keys()[n]}')\n",
    "    ax.spines[\"top\"].set_visible(False)\n",
    "    ax.spines[\"right\"].set_visible(False)\n",
    "axs[-1].set_xlabel('Go trials')\n",
    "plt.tight_layout()"
   ]
  },
  {
   "cell_type": "markdown",
   "id": "c130f9af-1a98-4575-9e18-88829e7f4a08",
   "metadata": {},
   "source": [
    "<div style=\"border-left: 3px solid #000; padding: 1px; padding-left: 10px; background: #DFF0D8; \">\n",
    "\n",
    "##  Now its time to dig into these data a little.\n",
    "+ How would you interpret these states? Are there any you think might be particularly relevant for neural activity?\n",
    "+ Was this the correct number of behavioral states to use? Try checking (remember, we saw how to do this in the workshop!). Does having more or fewer states detected change your plans for neural data analysis?\n"
   ]
  },
  {
   "cell_type": "code",
   "execution_count": null,
   "id": "82e573a4-e796-44b2-ae4a-3979dddef77e",
   "metadata": {},
   "outputs": [],
   "source": []
  },
  {
   "cell_type": "code",
   "execution_count": null,
   "id": "a8f90c58-a967-46b9-815a-0d2032a635fb",
   "metadata": {},
   "outputs": [],
   "source": []
  },
  {
   "cell_type": "markdown",
   "id": "ca9dacf6-9e18-49b4-9be3-305d97565f0c",
   "metadata": {},
   "source": [
    "<div style=\"border-left: 3px solid #000; padding: 1px; padding-left: 10px; background: #DFF0D8; \">\n",
    "\n",
    "<i>Stretch goal:</i> Electrophysiology data is hard to collect. But these mice spent time running this task when there was no ephys recording. Do you think that using these extra sessions will give you a more robust state estimate? Try concatenating data from several sessions with this mouse - does it change the state estimate for the session at hand?\n",
    "\n",
    "<i>This part might take you a while, so we recomend trying your hand at decoding some electrophysiology first then comming back to this. </i>"
   ]
  },
  {
   "cell_type": "code",
   "execution_count": null,
   "id": "d0a29046-6265-4b3c-888d-634cc07545c6",
   "metadata": {},
   "outputs": [],
   "source": [
    "# Here is the behavior_session_table!\n",
    "behavior_session_table = pd.read_csv('/code/session_tables/behavior_session_table_VisualBehaviorNeuropixels.csv')"
   ]
  },
  {
   "cell_type": "code",
   "execution_count": null,
   "id": "3580126c-bf5d-46e9-9508-d62f4fa0b521",
   "metadata": {},
   "outputs": [],
   "source": []
  },
  {
   "cell_type": "markdown",
   "id": "daead369-a923-423c-aafc-de1e035ccbf6",
   "metadata": {},
   "source": [
    "<div style=\"border-left: 3px solid #000; padding: 1px; padding-left: 10px; background: #F0FAFF; \">\n",
    "    \n",
    "### One quick aside before we get to the electrophysiology:\n",
    "    \n",
    "We just fit our behavioral model to go trials. But we might wat to decode stimuli fit between these go trials, even though we won't have a good readout of, say, licking for every stimulus presentation. Below is some code to extrapolate the nearest state to these interleaved stimuli. Is this a good idea?"
   ]
  },
  {
   "cell_type": "code",
   "execution_count": null,
   "id": "8e500d17-f5ab-4772-a53d-717df6ecc02a",
   "metadata": {},
   "outputs": [],
   "source": [
    "from scipy.interpolate import interp1d\n",
    "fx = interp1d(go_trials.start_time,most_likely_states,kind=\"nearest\",fill_value=\"extrapolate\")\n",
    "active_stimuli['state'] = fx(active_stimuli.start_time)"
   ]
  },
  {
   "cell_type": "code",
   "execution_count": null,
   "id": "33bd608b-41e6-4f6d-a767-51d6ee4fa938",
   "metadata": {},
   "outputs": [],
   "source": []
  },
  {
   "cell_type": "markdown",
   "id": "f62f1f17-fb2f-4f68-9967-05ea21fe0ff6",
   "metadata": {},
   "source": [
    "<div style=\"border-left: 3px solid #000; padding: 1px; padding-left: 10px; background: #F0FAFF; \">\n",
    "    \n",
    "# Part 3: Decoding electrophysiology. \n",
    "\n",
    "Great! You have behavioral states!\n",
    "\n",
    "Now its time to do some neural decoding.\n",
    "\n",
    "\n",
    "</div>"
   ]
  },
  {
   "cell_type": "markdown",
   "id": "063878bd-c1f6-4e0d-a557-c131e3abc417",
   "metadata": {},
   "source": [
    "<div style=\"border-left: 3px solid #000; padding: 1px; padding-left: 10px; background: #F0FAFF; \">\n",
    "This function is super handy for getting started with binning:"
   ]
  },
  {
   "cell_type": "code",
   "execution_count": null,
   "id": "d4477f6d-63b5-43a4-8374-2c67ee3f664d",
   "metadata": {},
   "outputs": [],
   "source": [
    "def get_binned_triggered_spike_counts_fast(spike_times, stim_times, bins):\n",
    "    \"\"\"\n",
    "    Fast peri-stimulus time histogram using searchsorted.\n",
    "\n",
    "    Parameters\n",
    "    ----------\n",
    "    spike_times : 1D array_like, sorted\n",
    "        Times of all spikes (e.g. in seconds).\n",
    "    stim_times : 1D array_like\n",
    "        Times of stimulus onsets.\n",
    "    bins : 1D array_like\n",
    "        Bin edges *relative* to stimulus (e.g. np.linspace(-0.1, 0.5, 61)).\n",
    "\n",
    "    Returns\n",
    "    -------\n",
    "    counts : 2D ndarray, shape (n_trials, len(bins)-1)\n",
    "        counts[i, j] is the number of spikes in bin j of trial i.\n",
    "    \"\"\"\n",
    "    # ensure numpy arrays\n",
    "    spike_times = np.asarray(spike_times)\n",
    "    stim_times = np.asarray(stim_times)\n",
    "    bins = np.asarray(bins)\n",
    "\n",
    "    # If your spike_times isn't already sorted, uncomment:\n",
    "    # spike_times = np.sort(spike_times)\n",
    "\n",
    "    n_trials = stim_times.size\n",
    "    n_bins = bins.size - 1\n",
    "    counts = np.zeros((n_trials, n_bins), dtype=int)\n",
    "\n",
    "    for i, stim in enumerate(stim_times):\n",
    "        # compute the absolute edges for this trial\n",
    "        edges = stim + bins\n",
    "        # find the insertion indices for each edge\n",
    "        idx = np.searchsorted(spike_times, edges, side='left')\n",
    "        # differences between successive indices = counts per bin\n",
    "        counts[i, :] = np.diff(idx)\n",
    "\n",
    "    return counts"
   ]
  },
  {
   "cell_type": "markdown",
   "id": "65f8d7f9-2ad2-4c43-94f6-f45d6cf8f5f9",
   "metadata": {
    "jp-MarkdownHeadingCollapsed": true
   },
   "source": [
    "<div style=\"border-left: 3px solid #000; padding: 1px; padding-left: 10px; background: #DFF0D8; \">\n",
    "\n",
    "Choose a structure to look at! The available structures might change depending on the session you have chosen. Hint: there is code in the workshop to check the structures that are available."
   ]
  },
  {
   "cell_type": "code",
   "execution_count": null,
   "id": "c0e69fd6-e3bb-446b-a7d1-e6af1b8f5a9a",
   "metadata": {},
   "outputs": [],
   "source": [
    "# This says \"VISp\" right now, but feel free to change it want to look at something else!\n",
    "this_structure_units_table = good_units[good_units.location == 'VISp']"
   ]
  },
  {
   "cell_type": "code",
   "execution_count": null,
   "id": "b40280c2-feec-43f7-a91a-f2206707a7b7",
   "metadata": {},
   "outputs": [],
   "source": [
    "\n",
    "n_neurons = len(this_structure_units_table.spike_times.values)\n",
    "stim_times = active_stimuli.start_time\n",
    "\n",
    "\n",
    "bins = np.arange(0,.8,.1)\n",
    "storage = np.empty((n_neurons,len(stim_times),len(bins)-1))\n",
    "\n",
    "for nn in range(n_neurons):\n",
    "    spike_times = this_structure_units_table.spike_times.values[nn]\n",
    "\n",
    "    spike_count = []\n",
    "    trial_index = []\n",
    "\n",
    "    storage[nn,:,:]  = get_binned_triggered_spike_counts_fast(spike_times,stim_times,bins)\n",
    "\n",
    "trial_index = np.arange(len(spike_count))\n",
    "trial_id_types,trial_id = np.unique(active_stimuli.image_name.values,return_inverse=  True)"
   ]
  },
  {
   "cell_type": "markdown",
   "id": "58839832-2df4-46b9-865e-e2648f92b395",
   "metadata": {},
   "source": [
    "<div style=\"border-left: 3px solid #000; padding: 1px; padding-left: 10px; background: #DFF0D8; \">\n",
    "\n",
    "Now that you have a storage matrix, you can use it to do some decoding.\n",
    "Your group discussion should have given you a good idea of what to do next, but here are some pointers in case you get stuck:\n",
    "+ What are you going to decode? Ideas from the workshop include stimulus identity and change images, but there are other options.\n",
    "+ Try fitting a model to one or more states. Is your model any good?\n",
    "+ How does a model fit on one or more states perform on other states? How does this compare to within-state performance?\n"
   ]
  },
  {
   "cell_type": "code",
   "execution_count": null,
   "id": "cd95145e-8921-4167-a5f3-fb7b494cccaf",
   "metadata": {},
   "outputs": [],
   "source": []
  },
  {
   "cell_type": "markdown",
   "id": "7aede094-a5aa-4b57-bab7-76a7bbf41813",
   "metadata": {},
   "source": [
    "<div style=\"border-left: 3px solid #000; padding: 1px; padding-left: 10px; background: #F0FAFF; \">\n",
    "    \n",
    "# Part 4: The sky is the limit\n",
    "\n",
    "Congrats, you made it to the end of the homework worksheet. Does this mean you are done with these data and the next step is to pack your bags and hop a sea plane home? We really hope not; there is still so much more to learn here!\n",
    "\n",
    "Here are some decoding- and state-inspired ideas for things to try next with these data. If you have time, it could be great to get started! Who knows, thinking like this could even help you towards a project idea.\n",
    "\n",
    "</div>"
   ]
  },
  {
   "cell_type": "markdown",
   "id": "cb043c64-a273-4159-b8e8-d6bc44f45715",
   "metadata": {},
   "source": [
    "<div style=\"border-left: 3px solid #000; padding: 1px; padding-left: 10px; background: #DFF0D8; \">\n",
    "\n",
    "#### Idea (1)\n",
    "\n",
    "Try playing around with different brain areas by selection a different cell location. How does this change your decoding results. \n",
    "\n",
    "+ Is it what you expected? \n",
    "\n",
    "+ Do different areas behave differently in different states?"
   ]
  },
  {
   "cell_type": "code",
   "execution_count": null,
   "id": "afb43194",
   "metadata": {},
   "outputs": [],
   "source": []
  },
  {
   "cell_type": "markdown",
   "id": "35ca1067-c0f2-42a9-b5af-58dec918c9e3",
   "metadata": {},
   "source": [
    "<div style=\"border-left: 3px solid #000; padding: 1px; padding-left: 10px; background: #DFF0D8; \">\n",
    "\n",
    "#### Idea (2)\n",
    "    \n",
    "Remember how we made such a big deal about the StandardScalar? Lets revisit that for a moment. \n",
    "\n",
    "Applying the StandardScalar to your model normalizes the magnitude of all of your neurons. For linear models, this has a key advantage: it makes the scale of all of the coefficients in your model comparable. In other words, you can get a sense of which neuron is of more importance to your model by looking which neurons have larger coefficients once your model is fit.\n",
    "\n",
    "Using these coefficients can be a handy way to explore your data. One you have your coefficients, try looking \"most important\" neurons. Plot a raster! How does this compare to the \"least important\" neurons."
   ]
  },
  {
   "cell_type": "code",
   "execution_count": null,
   "id": "501c0730-448d-4bd3-a85e-76486cd84388",
   "metadata": {},
   "outputs": [],
   "source": [
    "# svc = LinearSVC()\n",
    "# svc.fit(X,y)\n",
    "# svc.coef_ #Coefficients"
   ]
  },
  {
   "cell_type": "code",
   "execution_count": null,
   "id": "e0cf23a9",
   "metadata": {},
   "outputs": [],
   "source": []
  },
  {
   "cell_type": "markdown",
   "id": "cd9dd900-bb34-4d1f-ad00-7dbb5b96785e",
   "metadata": {},
   "source": [
    "<div style=\"border-left: 3px solid #000; padding: 1px; padding-left: 10px; background: #DFF0D8; \">\n",
    "\n",
    "#### Idea (3) \n",
    "Flip the script! Can you decode which state your mouse is in from the neural activity?"
   ]
  },
  {
   "cell_type": "code",
   "execution_count": null,
   "id": "0afae2bf-732d-4dac-94f1-b37c469f61a6",
   "metadata": {},
   "outputs": [],
   "source": []
  },
  {
   "cell_type": "markdown",
   "id": "ef6e95a5-b752-4d3b-9490-b0e1625cc046",
   "metadata": {},
   "source": [
    "<div style=\"border-left: 3px solid #000; padding: 1px; padding-left: 10px; background: #DFF0D8; \">\n",
    "\n",
    "#### Idea (4) \n",
    "\n",
    "We have more information about are neurons than just \"are they good?\"\n",
    "\n",
    "Canonically, electrophysiology literature has separated \"fast spiking\" and \"regular spiking\" units based on the width of their spike waveform. Though the distinction is far from perfect, \"fast spiking\" units are thought more likely to be PV-positive interneurons, while other cells fall into the \"regular\" camp. \n",
    "\n",
    "There are other, more sophisticated ways to distinguish cell types. For example, many of these sessions have optotaging information. https://allenswdb.github.io/background/Optotagging.html\n",
    "\n",
    "Try decoding again, but this time separating by cell type. Plot a histogram of unit waveform durations. Where might you draw the line between fast and regular spiking neurons? Try decoding with each of these cell types and comparing the results. Hint: you might want subsample these populations to make them the same size.\n",
    "\n",
    "Once you have this working, you might even take a look at the specific populations of optotagged cells."
   ]
  },
  {
   "cell_type": "code",
   "execution_count": null,
   "id": "42ccf91c-b8a3-4370-8ea6-f6905472b9d2",
   "metadata": {},
   "outputs": [],
   "source": []
  },
  {
   "cell_type": "code",
   "execution_count": null,
   "id": "6ed396fc-b744-4cd6-a77a-41911afa4565",
   "metadata": {},
   "outputs": [],
   "source": []
  }
 ],
 "metadata": {
  "kernelspec": {
   "display_name": "Python 3 (ipykernel)",
   "language": "python",
   "name": "python3"
  },
  "language_info": {
   "codemirror_mode": {
    "name": "ipython",
    "version": 3
   },
   "file_extension": ".py",
   "mimetype": "text/x-python",
   "name": "python",
   "nbconvert_exporter": "python",
   "pygments_lexer": "ipython3",
   "version": "3.10.12"
  }
 },
 "nbformat": 4,
 "nbformat_minor": 5
}
