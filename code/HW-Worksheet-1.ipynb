{
 "cells": [
  {
   "cell_type": "markdown",
   "id": "1edb501b",
   "metadata": {},
   "source": [
    " <img src=\"../code/Resources/cropped-SummerWorkshop_Header.png\"> \n",
    "\n",
    "<h1 align=\"center\">Homework worksheet 1: Tutorial on neuronal encoding and behavior</h1> \n",
    "<h3 align=\"center\">Summer Workshop on the Dynamic Brain</h3> \n",
    "<h3 align=\"center\">Thursday, August 26th, 2025</h3> \n",
    "<h4 align=\"center\">Day 2</h4> "
   ]
  },
  {
   "cell_type": "code",
   "execution_count": null,
   "id": "4505a359",
   "metadata": {},
   "outputs": [],
   "source": [
    "import os\n",
    "import numpy as np\n",
    "import numpy.random as npr\n",
    "import pandas as pd\n",
    "import pynwb\n",
    "\n",
    "from tqdm import tqdm\n",
    "\n",
    "import matplotlib.pyplot as plt\n",
    "from matplotlib import colors\n",
    "import seaborn as sns\n",
    "\n",
    "pd.set_option('display.max_columns', None)\n",
    "\n",
    "%matplotlib inline\n",
    "\n",
    "# HMM libraries \n",
    "import jax.numpy as jnp\n",
    "import jax.random as jr\n",
    "\n",
    "from dynamax.hidden_markov_model import GaussianHMM"
   ]
  },
  {
   "cell_type": "markdown",
   "id": "89e0793a",
   "metadata": {},
   "source": [
    "### Question: Decoding performance depend on behavior states?  "
   ]
  },
  {
   "cell_type": "markdown",
   "id": "1000de6d",
   "metadata": {},
   "source": []
  }
 ],
 "metadata": {
  "language_info": {
   "name": "python"
  }
 },
 "nbformat": 4,
 "nbformat_minor": 5
}
