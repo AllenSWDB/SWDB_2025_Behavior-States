{
 "cells": [
  {
   "cell_type": "markdown",
   "metadata": {},
   "source": [
    "<img src=\"../code/Resources/cropped-SummerWorkshop_Header.png\"> \n",
    "\n",
    "<h1 align=\"center\">Workshop 1: Tutorial on neuronal encoding and behavior</h1> \n",
    "<h3 align=\"center\">Summer Workshop on the Dynamic Brain</h3> \n",
    "<h3 align=\"center\">Thursday, August 26th, 2025</h3> \n",
    "<h4 align=\"center\">Day 2</h4> "
   ]
  },
  {
   "cell_type": "markdown",
   "metadata": {},
   "source": [
    "#### Add here description about motivation/task/data. Motivation to use dataset and point to databook for reference.  "
   ]
  },
  {
   "cell_type": "markdown",
   "metadata": {},
   "source": [
    "<center><img src=\"Resources/DR_task_description.png\", width=\"10300\" height=\"400\"> </center>"
   ]
  },
  {
   "cell_type": "code",
   "execution_count": null,
   "metadata": {},
   "outputs": [],
   "source": [
    "import numpy as np\n",
    "import pandas as pd\n",
    "from matplotlib import pyplot as plt\n",
    "from tqdm import tqdm\n",
    "\n",
    "import pynwb\n",
    "\n",
    "pd.set_option('display.max_columns', None)"
   ]
  },
  {
   "cell_type": "code",
   "execution_count": null,
   "metadata": {},
   "outputs": [],
   "source": [
    "# intialize session_id and get session object [may be use different mice per student?]\n",
    "\n",
    "session_id = '742903_2024-10-22'\n",
    "\n",
    "nwb_path = f'/root/capsule/data/{session_id}.nwb'\n",
    "session = pynwb.NWBHDF5IO(nwb_path).read()"
   ]
  },
  {
   "cell_type": "code",
   "execution_count": null,
   "metadata": {},
   "outputs": [],
   "source": [
    "# get trials data\n",
    "\n",
    "trials = session.trials.to_dataframe()\n",
    "\n"
   ]
  },
  {
   "cell_type": "code",
   "execution_count": null,
   "metadata": {},
   "outputs": [],
   "source": [
    "# get units table \n",
    "\n",
    "units_table = session.units.to_dataframe()"
   ]
  },
  {
   "cell_type": "code",
   "execution_count": null,
   "metadata": {},
   "outputs": [],
   "source": [
    "def make_psth(spike_times, stim_times, pre_window=0.5, post_window=1.0, bin_size=0.05):\n",
    "    \"\"\"\n",
    "    Generate a Peri-Stimulus Time Histogram (PSTH).\n",
    "    \n",
    "    Parameters:\n",
    "    - spike_times: array-like, timestamps of all spikes (in seconds)\n",
    "    - stim_times: array-like, timestamps of stimulus onsets (in seconds)\n",
    "    - pre_window: float, time before stimulus to include in PSTH (seconds)\n",
    "    - post_window: float, time after stimulus to include in PSTH (seconds)\n",
    "    - bin_size: float, width of each time bin (seconds)\n",
    "    \n",
    "    Returns:\n",
    "    - firing_rates: 2D numpy array of firing rates (trials x bins)\n",
    "    - bin_centers: 1D numpy array of bin center times (relative to stimulus onset)\n",
    "    \"\"\"\n",
    "\n",
    "    # Ensure inputs are numpy arrays \n",
    "    spike_times = np.array(spike_times)\n",
    "    stim_times = np.array(stim_times)\n",
    "    \n",
    "    # Define bin edges from -pre_window to +post_window\n",
    "    bins = np.arange(-pre_window, post_window + bin_size, bin_size)\n",
    "    \n",
    "    # Compute centers of bins (for plotting)\n",
    "    bin_centers = bins[:-1] + bin_size / 2\n",
    "    \n",
    "    # Initialize a matrix to hold spike counts: rows = trials, columns = bins\n",
    "    all_counts = np.zeros((len(stim_times), len(bins) - 1))\n",
    "    \n",
    "    # Loop through each stimulus time to compute trial-specific spike counts\n",
    "    for i, stim_time in enumerate(stim_times):\n",
    "        # Select spikes that fall within the time window around this stimulus\n",
    "        mask = ((spike_times >= stim_time - pre_window) & \n",
    "                (spike_times < stim_time + post_window))\n",
    "        \n",
    "        # Align spike times to stimulus onset (0 = stimulus)\n",
    "        trial_spikes = spike_times[mask] - stim_time\n",
    "        \n",
    "        # Bin the aligned spikes and count how many fall into each bin\n",
    "        counts, _ = np.histogram(trial_spikes, bins=bins)\n",
    "        \n",
    "        # Store the result in the i-th row (trial)\n",
    "        all_counts[i, :] = counts\n",
    "    \n",
    "    # Convert spike counts to firing rates (spikes per second)\n",
    "    firing_rates = all_counts / bin_size\n",
    "    \n",
    "    # Return firing rates (trials x bins) and bin center positions\n",
    "    return firing_rates, bin_centers\n"
   ]
  }
 ],
 "metadata": {
  "kernelspec": {
   "display_name": "Python 3 (ipykernel)",
   "language": "python",
   "name": "python3"
  },
  "language_info": {
   "codemirror_mode": {
    "name": "ipython",
    "version": 3
   },
   "file_extension": ".py",
   "mimetype": "text/x-python",
   "name": "python",
   "nbconvert_exporter": "python",
   "pygments_lexer": "ipython3",
   "version": "3.10.9"
  }
 },
 "nbformat": 4,
 "nbformat_minor": 4
}
