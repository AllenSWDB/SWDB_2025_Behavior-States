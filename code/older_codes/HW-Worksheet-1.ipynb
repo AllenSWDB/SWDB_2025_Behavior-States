{
 "cells": [
  {
   "cell_type": "markdown",
   "id": "1edb501b",
   "metadata": {},
   "source": [
    " <img src=\"../code/Resources/cropped-SummerWorkshop_Header.png\"> \n",
    "\n",
    "<h1 align=\"center\">Homework worksheet 1: Tutorial on neuronal encoding and behavior</h1> \n",
    "<h3 align=\"center\">Summer Workshop on the Dynamic Brain</h3> \n",
    "<h3 align=\"center\">Thursday, August 26th, 2025</h3> \n",
    "<h4 align=\"center\">Day 2</h4> "
   ]
  },
  {
   "cell_type": "code",
   "execution_count": null,
   "id": "4505a359",
   "metadata": {},
   "outputs": [],
   "source": [
    "import os\n",
    "import numpy as np\n",
    "import numpy.random as npr\n",
    "import pandas as pd\n",
    "import pynwb\n",
    "\n",
    "from tqdm import tqdm\n",
    "\n",
    "import matplotlib.pyplot as plt\n",
    "from matplotlib import colors\n",
    "import seaborn as sns\n",
    "\n",
    "pd.set_option('display.max_columns', None)\n",
    "\n",
    "%matplotlib inline\n",
    "\n",
    "# HMM libraries \n",
    "import jax.numpy as jnp\n",
    "import jax.random as jr\n",
    "\n",
    "from dynamax.hidden_markov_model import GaussianHMM"
   ]
  },
  {
   "cell_type": "markdown",
   "id": "89e0793a",
   "metadata": {},
   "source": [
    "### Question: Decoding performance depend on behavior states?  "
   ]
  },
  {
   "cell_type": "code",
   "execution_count": null,
   "id": "49e7e534",
   "metadata": {},
   "outputs": [],
   "source": [
    "# pick a session_id and get session data\n",
    "session_id = '759434_2025-02-04'\n",
    "nwb_path = f'/root/capsule/data/{session_id}/{session_id}.nwb'\n",
    "session = pynwb.NWBHDF5IO(nwb_path).read()"
   ]
  },
  {
   "cell_type": "code",
   "execution_count": null,
   "id": "b5fc47dd",
   "metadata": {},
   "outputs": [],
   "source": [
    "# access trials table and set interval \n",
    "trials = session.trials.to_dataframe()\n",
    "quiescent_start = trials.stim_start_time.values - 1.5\n",
    "quiescent_stop = trials.quiescent_stop_time.values\n",
    "\n",
    "trial_start = trials.start_time.values \n",
    "trial_stop = trials.stop_time.values "
   ]
  },
  {
   "cell_type": "code",
   "execution_count": null,
   "id": "57b8f5e2",
   "metadata": {},
   "outputs": [],
   "source": [
    "def get_trialwise_values(x, timestamps, start, stop, mean_value=True):\n",
    "    \"\"\"\n",
    "    Extracts trial-wise summary statistics of different behaviors (mean or median) from a time-aligned signal.\n",
    "\n",
    "    Parameters:\n",
    "    - x : array-like\n",
    "        Signal values (e.g., neural data or behavioral measurements).\n",
    "    - timestamps : array-like\n",
    "        Time points corresponding to each value in x.\n",
    "    - start : array-like\n",
    "        Start times for each trial.\n",
    "    - stop : array-like\n",
    "        Stop times for each trial.\n",
    "    - mean_value : bool, default=True\n",
    "        If True, compute the mean within each trial window; otherwise compute the median.\n",
    "\n",
    "    Returns:\n",
    "    - values : list\n",
    "        List of mean or median values for each trial window.\n",
    "    \"\"\"\n",
    "    \n",
    "    if mean_value:\n",
    "        # Compute mean of x within each [start, stop] window\n",
    "        return [np.nanmean(x[np.logical_and(s1 <= timestamps, timestamps <= s2)]) \n",
    "                for s1, s2 in zip(start, stop)]\n",
    "    else:\n",
    "        # Compute median of x within each [start, stop] window\n",
    "        return [np.nanmedian(x[np.logical_and(s1 <= timestamps, timestamps <= s2)]) \n",
    "                for s1, s2 in zip(start, stop)]"
   ]
  },
  {
   "cell_type": "code",
   "execution_count": null,
   "id": "103d4c62",
   "metadata": {},
   "outputs": [],
   "source": [
    "# face expressions\n",
    "\n",
    "facial_data = {}\n",
    "\n",
    "# facial expressions: \n",
    "def get_facial_feature(part_name, facial_features_df):\n",
    "    confidence = facial_features_df[f'{part_name}_likelihood']\n",
    "    temporal_norm = facial_features_df[f'{part_name}_temporal_norm']\n",
    "    x = facial_features_df[f'{part_name}_x']\n",
    "    y = 492 - facial_features_df[f'{part_name}_y']\n",
    "    xy = np.sqrt(x**2 + y**2)\n",
    "    xy[(confidence < 0.98) | (temporal_norm > np.nanmean(temporal_norm) + 3 * np.nanstd(temporal_norm))] = np.nan\n",
    "    xy = pd.Series(xy).interpolate(limit_direction='both').to_numpy() \n",
    "    return xy\n",
    "\n",
    "\n",
    "facial_features_df = session.processing['behavior']['lp_side_camera'][:]\n",
    "feature_timestamps = facial_features_df['timestamps'].values.astype('float')\n",
    "map_names = {'ears': 'ear_base_l', 'jaw': 'jaw', 'nose': 'nose_tip', 'whisker_pad': 'whisker_pad_l_side'}\n",
    "\n",
    "ear = get_facial_feature('ear_base_l', facial_features_df)\n",
    "facial_data['ear_median_position'] = get_trialwise_values(ear, feature_timestamps, quiescent_start, quiescent_stop, mean_value=False)\n",
    "\n",
    "jaw = get_facial_feature('jaw', facial_features_df)\n",
    "facial_data['jaw_median_position'] =  get_trialwise_values(jaw, feature_timestamps, quiescent_start, quiescent_stop, mean_value=False)\n",
    "\n",
    "nose = get_facial_feature('nose_tip', facial_features_df)\n",
    "facial_data['nose_median_position'] = get_trialwise_values(nose, feature_timestamps, quiescent_start, quiescent_stop, mean_value=False)\n",
    "\n",
    "whisker_pad =  get_facial_feature('whisker_pad_l_side', facial_features_df)\n",
    "facial_data['whisker_median_position'] = get_trialwise_values(whisker_pad, feature_timestamps,  quiescent_start, quiescent_stop, mean_value=False)\n",
    "\n",
    "facial_data = pd.DataFrame(facial_data)"
   ]
  },
  {
   "cell_type": "code",
   "execution_count": null,
   "id": "880c72b3",
   "metadata": {},
   "outputs": [],
   "source": []
  },
  {
   "cell_type": "markdown",
   "id": "1000de6d",
   "metadata": {},
   "source": []
  }
 ],
 "metadata": {
  "kernelspec": {
   "display_name": "Python 3 (ipykernel)",
   "language": "python",
   "name": "python3"
  },
  "language_info": {
   "codemirror_mode": {
    "name": "ipython",
    "version": 3
   },
   "file_extension": ".py",
   "mimetype": "text/x-python",
   "name": "python",
   "nbconvert_exporter": "python",
   "pygments_lexer": "ipython3",
   "version": "3.10.12"
  }
 },
 "nbformat": 4,
 "nbformat_minor": 5
}
